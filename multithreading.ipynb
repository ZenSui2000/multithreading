{
 "cells": [
  {
   "cell_type": "code",
   "execution_count": 2,
   "id": "2080c715-5354-4230-8ccd-f5016b31ef21",
   "metadata": {},
   "outputs": [
    {
     "ename": "SyntaxError",
     "evalue": "invalid syntax (2580284134.py, line 1)",
     "output_type": "error",
     "traceback": [
      "\u001b[0;36m  Cell \u001b[0;32mIn[2], line 1\u001b[0;36m\u001b[0m\n\u001b[0;31m    Multithreading is defined as the ability of a processor to execute multiple threads concurrently.Multithreading makes multitasking possible when it breaks programs into smaller, executable threads.Threading Module\u001b[0m\n\u001b[0m                              ^\u001b[0m\n\u001b[0;31mSyntaxError\u001b[0m\u001b[0;31m:\u001b[0m invalid syntax\n"
     ]
    }
   ],
   "source": [
    "1.Multithreading is defined as the ability of a processor to execute multiple threads concurrently.Multithreading makes multitasking possible when it breaks programs into smaller, executable threads.Threading Module"
   ]
  },
  {
   "cell_type": "code",
   "execution_count": 3,
   "id": "822875ab-a1fa-407f-923a-8b5145563bcb",
   "metadata": {},
   "outputs": [
    {
     "ename": "SyntaxError",
     "evalue": "invalid decimal literal (3108521938.py, line 4)",
     "output_type": "error",
     "traceback": [
      "\u001b[0;36m  Cell \u001b[0;32mIn[3], line 4\u001b[0;36m\u001b[0m\n\u001b[0;31m    2.Returns the number of thread objects in the caller's thread control.\u001b[0m\n\u001b[0m     ^\u001b[0m\n\u001b[0;31mSyntaxError\u001b[0m\u001b[0;31m:\u001b[0m invalid decimal literal\n"
     ]
    }
   ],
   "source": [
    "2.Threading module is used for creating, controlling and managing threads in python.\n",
    "\n",
    "1. Returns the number of thread objects that are active\n",
    "2.Returns the number of thread objects in the caller's thread control.\n",
    "3.The enumerate function is a built-in function that allows you to iterate through a sequence and keep track of the index of each element"
   ]
  },
  {
   "cell_type": "code",
   "execution_count": 4,
   "id": "18cb3997-8ef2-41ba-895f-5f66d9f1b3cd",
   "metadata": {},
   "outputs": [
    {
     "ename": "SyntaxError",
     "evalue": "unterminated string literal (detected at line 3) (1098742638.py, line 3)",
     "output_type": "error",
     "traceback": [
      "\u001b[0;36m  Cell \u001b[0;32mIn[4], line 3\u001b[0;36m\u001b[0m\n\u001b[0;31m    a.The run() method invokes the callable object passed to the object's constructor as the target argument, if any, with positional and keyword arguments taken from the args and kwargs arguments, respectively.\u001b[0m\n\u001b[0m                                                                       ^\u001b[0m\n\u001b[0;31mSyntaxError\u001b[0m\u001b[0;31m:\u001b[0m unterminated string literal (detected at line 3)\n"
     ]
    }
   ],
   "source": [
    "3. \n",
    "\n",
    "a.The run() method invokes the callable object passed to the object's constructor as the target argument, if any, with positional and keyword arguments taken from the args and kwargs arguments, respectively.\n",
    "b.The start() method is an inbuilt method of the Thread class of the threading module, it is used to start a thread's activity.\n",
    "c.Join in Python is an in-built method used to join an iterable's elements, separated by a string separator, which is specified by you.\n",
    "d.The isAlive() method checks whether a thread is still executing."
   ]
  },
  {
   "cell_type": "code",
   "execution_count": 15,
   "id": "8aa67232-1a11-4db4-b562-e2afb276b312",
   "metadata": {},
   "outputs": [
    {
     "name": "stdout",
     "output_type": "stream",
     "text": [
      "Square: 400\n",
      "Cube: 8000\n",
      "Done!\n"
     ]
    }
   ],
   "source": [
    "4. \n",
    "import threading\n",
    "\n",
    "def print_cube(num):\n",
    "\n",
    "\tprint(\"Cube: {}\" .format(num * num * num))\n",
    "\n",
    "def print_square(num):\n",
    "\n",
    "\tprint(\"Square: {}\" .format(num * num))\n",
    "\n",
    "if __name__ ==\"__main__\":\n",
    "\n",
    "\tt1 = threading.Thread(target=print_square, args=(20,))\n",
    "\tt2 = threading.Thread(target=print_cube, args=(20,))\n",
    "\n",
    "\tt1.start()\n",
    "\tt2.start()\n",
    "\n",
    "\n",
    "\tt1.join()\n",
    "\tt2.join()\n",
    "\n",
    "\tprint(\"Done!\")"
   ]
  },
  {
   "cell_type": "code",
   "execution_count": 16,
   "id": "01de4eb3-b183-434a-a3ba-545095f434e7",
   "metadata": {},
   "outputs": [
    {
     "ename": "SyntaxError",
     "evalue": "invalid syntax (2796163835.py, line 2)",
     "output_type": "error",
     "traceback": [
      "\u001b[0;36m  Cell \u001b[0;32mIn[16], line 2\u001b[0;36m\u001b[0m\n\u001b[0;31m    1. Advantages are : performance, responsiveness, and resource utilization\u001b[0m\n\u001b[0m       ^\u001b[0m\n\u001b[0;31mSyntaxError\u001b[0m\u001b[0;31m:\u001b[0m invalid syntax\n"
     ]
    }
   ],
   "source": [
    "5. \n",
    "1. Advantages are : performance, responsiveness, and resource utilization\n",
    "\n",
    "2. Disadvanatges are : \n",
    "Difficulty of writing code. \n",
    "Difficulty of debugging. \n",
    "Difficulty of managing concurrency. \n",
    "Difficulty of testing. \n",
    "Difficulty of porting existing code."
   ]
  },
  {
   "cell_type": "code",
   "execution_count": null,
   "id": "e341dd09-c6e3-445e-acec-a58e085d10b8",
   "metadata": {},
   "outputs": [],
   "source": [
    "6. Race conditions are when two threads use the same variable at a given time.\n",
    "\n",
    "Deadlock exists when two threads seek one lock simultaneously"
   ]
  }
 ],
 "metadata": {
  "kernelspec": {
   "display_name": "Python 3 (ipykernel)",
   "language": "python",
   "name": "python3"
  },
  "language_info": {
   "codemirror_mode": {
    "name": "ipython",
    "version": 3
   },
   "file_extension": ".py",
   "mimetype": "text/x-python",
   "name": "python",
   "nbconvert_exporter": "python",
   "pygments_lexer": "ipython3",
   "version": "3.10.8"
  }
 },
 "nbformat": 4,
 "nbformat_minor": 5
}
